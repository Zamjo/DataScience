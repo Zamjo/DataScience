{
 "cells": [
  {
   "cell_type": "code",
   "execution_count": 1,
   "id": "11bee591",
   "metadata": {},
   "outputs": [
    {
     "name": "stdout",
     "output_type": "stream",
     "text": [
      "[[ 0  1  2  3]\n",
      " [ 4  5  6  7]\n",
      " [ 8  9 10 11]\n",
      " [12 13 14 15]]\n",
      "\n",
      "1st and 2nd element in 2nd and 3rd row\n",
      " [[4 5]\n",
      " [8 9]]\n",
      "\n",
      "2nd and 3rd element in 1st row\n",
      " [[1 2]]\n"
     ]
    }
   ],
   "source": [
    "import numpy as np\n",
    "array = np.arange(16).reshape(4,4)\n",
    "print(array)\n",
    "print(\"\\n1st and 2nd element in 2nd and 3rd row\\n\",array[1:3,0:2])\n",
    "print(\"\\n2nd and 3rd element in 1st row\\n\",array[:1,1:3])"
   ]
  },
  {
   "cell_type": "code",
   "execution_count": null,
   "id": "aa38fcb6",
   "metadata": {},
   "outputs": [],
   "source": []
  }
 ],
 "metadata": {
  "kernelspec": {
   "display_name": "Python 3 (ipykernel)",
   "language": "python",
   "name": "python3"
  },
  "language_info": {
   "codemirror_mode": {
    "name": "ipython",
    "version": 3
   },
   "file_extension": ".py",
   "mimetype": "text/x-python",
   "name": "python",
   "nbconvert_exporter": "python",
   "pygments_lexer": "ipython3",
   "version": "3.9.7"
  }
 },
 "nbformat": 4,
 "nbformat_minor": 5
}
